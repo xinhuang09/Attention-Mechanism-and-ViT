{
  "nbformat": 4,
  "nbformat_minor": 0,
  "metadata": {
    "colab": {
      "provenance": []
    },
    "kernelspec": {
      "name": "python3",
      "display_name": "Python 3"
    },
    "language_info": {
      "name": "python"
    }
  },
  "cells": [
    {
      "cell_type": "code",
      "execution_count": null,
      "metadata": {
        "id": "Z-_xlYCJODJd"
      },
      "outputs": [],
      "source": [
        "from __future__ import print_function\n",
        "\n",
        "import os\n",
        "import argparse\n",
        "import pandas as pd\n",
        "import csv\n",
        "import time\n",
        "import torch\n",
        "\n",
        "import torch.nn as nn\n",
        "import torch.optim as optim\n",
        "import torch.nn.functional as F\n",
        "import torch.backends.cudnn as cudnn\n",
        "import numpy as np\n",
        "\n",
        "import torchvision\n",
        "import torchvision.transforms as transforms"
      ]
    },
    {
      "cell_type": "code",
      "source": [
        "def initial_parser():\n",
        "    parser = argparse.ArgumentParser(description='PyTorch CIFAR10 Training')\n",
        "    parser.add_argument('--lr', default=1e-4, type=float, help='learning rate') # resnets.. 1e-3, Vit..1e-4\n",
        "    parser.add_argument('--opt', default=\"adam\")\n",
        "    parser.add_argument('--resume', '-r', action='store_true', help='resume from checkpoint')\n",
        "    parser.add_argument('--noaug', action='store_true', help='disable use randomaug')\n",
        "    parser.add_argument('--noamp', action='store_true', help='disable mixed precision training. for older pytorch versions')\n",
        "    parser.add_argument('--nowandb', action='store_true', help='disable wandb')\n",
        "    parser.add_argument('--mixup', action='store_true', help='add mixup augumentations')\n",
        "    parser.add_argument('--net', default='vit')\n",
        "    parser.add_argument('--bs', default='512')\n",
        "    parser.add_argument('--size', default=\"32\")\n",
        "    parser.add_argument('--n_epochs', type=int, default='200')\n",
        "    parser.add_argument('--patch', default='4', type=int, help=\"patch for ViT\")\n",
        "    parser.add_argument('--dimhead', default=\"512\", type=int)\n",
        "    parser.add_argument('--convkernel', default='8', type=int, help=\"parameter for convmixer\")\n",
        "    return parser"
      ],
      "metadata": {
        "id": "3OPPObbfOOZo"
      },
      "execution_count": 1,
      "outputs": []
    },
    {
      "cell_type": "code",
      "source": [
        "args = parser.parse_args()"
      ],
      "metadata": {
        "id": "XkoqdVW8OVAx"
      },
      "execution_count": null,
      "outputs": []
    },
    {
      "cell_type": "code",
      "source": [
        "transform_train = transforms.Compose([\n",
        "    transforms.RandomCrop(32, padding=4),\n",
        "    transforms.Resize(size),\n",
        "    transforms.RandomHorizontalFlip(),\n",
        "    transforms.ToTensor(),\n",
        "    transforms.Normalize((0.4914, 0.4822, 0.4465), (0.2023, 0.1994, 0.2010)),\n",
        "])"
      ],
      "metadata": {
        "id": "ncDcDtYPObF5"
      },
      "execution_count": null,
      "outputs": []
    },
    {
      "cell_type": "code",
      "source": [
        "transform_test = transforms.Compose([\n",
        "    transforms.Resize(size),\n",
        "    transforms.ToTensor(),\n",
        "    transforms.Normalize((0.4914, 0.4822, 0.4465), (0.2023, 0.1994, 0.2010)),\n",
        "])"
      ],
      "metadata": {
        "id": "UfMq4fBeOhuL"
      },
      "execution_count": null,
      "outputs": []
    },
    {
      "cell_type": "code",
      "source": [
        "if aug:  \n",
        "    N = 2; M = 14;\n",
        "    transform_train.transforms.insert(0, RandAugment(N, M))\n",
        "\n",
        "# Prepare dataset\n",
        "trainset = torchvision.datasets.CIFAR10(root='./data', train=True, download=True, transform=transform_train)\n",
        "trainloader = torch.utils.data.DataLoader(trainset, batch_size=bs, shuffle=True, num_workers=8)\n",
        "\n",
        "testset = torchvision.datasets.CIFAR10(root='./data', train=False, download=True, transform=transform_test)\n",
        "testloader = torch.utils.data.DataLoader(testset, batch_size=100, shuffle=False, num_workers=8)\n",
        "\n",
        "classes = ('plane', 'car', 'bird', 'cat', 'deer', 'dog', 'frog', 'horse', 'ship', 'truck')"
      ],
      "metadata": {
        "id": "0BsNnA9FOlVH"
      },
      "execution_count": null,
      "outputs": []
    },
    {
      "cell_type": "code",
      "source": [
        "scaler = torch.cuda.amp.GradScaler(enabled=use_amp)\n",
        "def train(epoch):\n",
        "    print('\\nEpoch: %d' % epoch)\n",
        "    net.train()\n",
        "    train_loss = 0\n",
        "    correct = 0\n",
        "    total = 0\n",
        "    for batch_idx, (inputs, targets) in enumerate(trainloader):\n",
        "        inputs, targets = inputs.to(device), targets.to(device)\n",
        "        # Train with amp\n",
        "        with torch.cuda.amp.autocast(enabled=use_amp):\n",
        "            outputs = net(inputs)\n",
        "            loss = criterion(outputs, targets)\n",
        "        scaler.scale(loss).backward()\n",
        "        scaler.step(optimizer)\n",
        "        scaler.update()\n",
        "        optimizer.zero_grad()\n",
        "\n",
        "        train_loss += loss.item()\n",
        "        _, predicted = outputs.max(1)\n",
        "        total += targets.size(0)\n",
        "        correct += predicted.eq(targets).sum().item()\n",
        "\n",
        "        progress_bar(batch_idx, len(trainloader), 'Loss: %.3f | Acc: %.3f%% (%d/%d)'\n",
        "            % (train_loss/(batch_idx+1), 100.*correct/total, correct, total))\n",
        "    return train_loss/(batch_idx+1)\n"
      ],
      "metadata": {
        "id": "pTNwL0D8O2f2"
      },
      "execution_count": null,
      "outputs": []
    },
    {
      "cell_type": "code",
      "source": [
        "def test(epoch):\n",
        "    global best_acc\n",
        "    net.eval()\n",
        "    test_loss = 0\n",
        "    correct = 0\n",
        "    total = 0\n",
        "    with torch.no_grad():\n",
        "        for batch_idx, (inputs, targets) in enumerate(testloader):\n",
        "            inputs, targets = inputs.to(device), targets.to(device)\n",
        "            outputs = net(inputs)\n",
        "            loss = criterion(outputs, targets)\n",
        "\n",
        "            test_loss += loss.item()\n",
        "            _, predicted = outputs.max(1)\n",
        "            total += targets.size(0)\n",
        "            correct += predicted.eq(targets).sum().item()\n",
        "\n",
        "            progress_bar(batch_idx, len(testloader), 'Loss: %.3f | Acc: %.3f%% (%d/%d)'\n",
        "                % (test_loss/(batch_idx+1), 100.*correct/total, correct, total))\n",
        "    \n",
        "    # Save checkpoint.\n",
        "    acc = 100.*correct/total\n",
        "    if acc > best_acc:\n",
        "        print('Saving..')\n",
        "        state = {\"model\": net.state_dict(),\n",
        "              \"optimizer\": optimizer.state_dict(),\n",
        "              \"scaler\": scaler.state_dict()}\n",
        "        if not os.path.isdir('checkpoint'):\n",
        "            os.mkdir('checkpoint')\n",
        "        torch.save(state, './checkpoint/'+args.net+'-{}-ckpt.t7'.format(args.patch))\n",
        "        best_acc = acc\n",
        "    \n",
        "    os.makedirs(\"log\", exist_ok=True)\n",
        "    content = time.ctime() + ' ' + f'Epoch {epoch}, lr: {optimizer.param_groups[0][\"lr\"]:.7f}, val loss: {test_loss:.5f}, acc: {(acc):.5f}'\n",
        "    print(content)\n",
        "    with open(f'log/log_{args.net}_patch{args.patch}.txt', 'a') as appender:\n",
        "        appender.write(content + \"\\n\")\n",
        "    return test_loss, acc\n",
        "\n",
        "list_loss = []\n",
        "list_acc = []\n",
        "    \n",
        "net.cuda()\n",
        "for epoch in range(start_epoch, args.n_epochs):\n",
        "    start = time.time()\n",
        "    trainloss = train(epoch)\n",
        "    val_loss, acc = test(epoch)\n",
        "    \n",
        "    scheduler.step(epoch-1) # step cosine scheduling\n",
        "    \n",
        "    list_loss.append(val_loss)\n",
        "    list_acc.append(acc)\n",
        "    \n",
        "    # Log training..\n",
        "    if usewandb:\n",
        "        wandb.log({'epoch': epoch, 'train_loss': trainloss, 'val_loss': val_loss, \"val_acc\": acc, \"lr\": optimizer.param_groups[0][\"lr\"],\n",
        "        \"epoch_time\": time.time()-start})\n",
        "\n",
        "    # Write out csv..\n",
        "    with open(f'log/log_{args.net}_patch{args.patch}.csv', 'w') as f:\n",
        "        writer = csv.writer(f, lineterminator='\\n')\n",
        "        writer.writerow(list_loss) \n",
        "        writer.writerow(list_acc) \n",
        "    print(list_loss)"
      ],
      "metadata": {
        "id": "tcOQvL-6O5wk"
      },
      "execution_count": null,
      "outputs": []
    }
  ]
}